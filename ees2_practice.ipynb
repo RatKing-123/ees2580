{
  "cells": [
    {
      "cell_type": "markdown",
      "metadata": {
        "id": "IUYHSwatZre0"
      },
      "source": [
        "# Python Lesson 2 Practice assignment\n"
      ]
    },
    {
      "cell_type": "markdown",
      "metadata": {
        "id": "lEhFDxa-Z3i1"
      },
      "source": [
        "1. Import the value of `pi` from the math module so that you don't have to specify the module name when you want to use the value. . Write a script to calculate the circumference of a circle with a diameter of 3. If you don't remember how to calculate circumference, Google it."
      ]
    },
    {
      "cell_type": "code",
      "execution_count": 3,
      "metadata": {
        "id": "zMKtKhCSZOYi"
      },
      "outputs": [
        {
          "name": "stdout",
          "output_type": "stream",
          "text": [
            "9.42477796076938\n"
          ]
        }
      ],
      "source": [
        "from math import pi\n",
        "\n",
        "print(3*pi)\n"
      ]
    },
    {
      "cell_type": "markdown",
      "metadata": {
        "id": "skYsCZYpaPwY"
      },
      "source": [
        "2. Modify the previous script to allow the user to input their own diameter. Don't forget that the `input()` function returns strings, not numbers."
      ]
    },
    {
      "cell_type": "code",
      "execution_count": 112,
      "metadata": {
        "id": "6xfGuuv_aStb"
      },
      "outputs": [
        {
          "name": "stdout",
          "output_type": "stream",
          "text": [
            "Circumference:  12.566370614359172\n"
          ]
        }
      ],
      "source": [
        "diameter = float(input('Enter diameter: '))\n",
        "\n",
        "print('Circumference: ' , (diameter*pi))"
      ]
    },
    {
      "cell_type": "markdown",
      "metadata": {
        "id": "BHKDQqoUaZSt"
      },
      "source": [
        "3. When describing angles, Python measures angles in radians, where 180 degrees = pi radian. That is, divide the angle in degrees by 180, then multiply by pi. Import the `cos()` function from the math module so that you don't have to specify the module name when you want to use the function. Since most people aren't familiar with radians, write a script that will allow a user to input an angle in degrees, convert the degrees to radians, then calculate the cosine of the input angle. Test your script with 45 degrees, whose cosine is 0.70710678118 ."
      ]
    },
    {
      "cell_type": "code",
      "execution_count": 8,
      "metadata": {
        "id": "cm7nfKWqazG2"
      },
      "outputs": [
        {
          "name": "stdout",
          "output_type": "stream",
          "text": [
            "0.7071067811865476\n"
          ]
        }
      ],
      "source": [
        "from math import cos\n",
        "deg = float(input('Enter angle in degrees: '))\n",
        "rad = (deg/180)*pi\n",
        "cos_input = cos(rad)\n",
        "print(cos_input)\n"
      ]
    },
    {
      "cell_type": "markdown",
      "metadata": {
        "id": "h33-p1sqbYCC"
      },
      "source": [
        "4. Rewrite the previous script, but this time import the `radians()` function from the `math` module and nest it inside the `cos()` function to do the conversion."
      ]
    },
    {
      "cell_type": "code",
      "execution_count": 11,
      "metadata": {
        "id": "e6LTAZUucDZQ"
      },
      "outputs": [
        {
          "name": "stdout",
          "output_type": "stream",
          "text": [
            "0.7071067811865476\n"
          ]
        }
      ],
      "source": [
        "from math import radians\n",
        "print(cos(radians(float(input('Enter angle in degrees: ')))))"
      ]
    },
    {
      "cell_type": "markdown",
      "metadata": {
        "id": "bMtFUDDEcEFF"
      },
      "source": [
        "5. **Case insensitivity**. It is often useful to check a user's input without concern for capitalization. The easiest way to do that is to convert what the user entered into all lower case, then check for equivalence with an all lower-case string. Write a script that lets the user input a string, then print the boolean result for comparing whether their string was equal to the string `sister` with any kind of capitalization."
      ]
    },
    {
      "cell_type": "code",
      "execution_count": 17,
      "metadata": {
        "id": "dHUBsIZScVqj"
      },
      "outputs": [
        {
          "name": "stdout",
          "output_type": "stream",
          "text": [
            "True\n"
          ]
        }
      ],
      "source": [
        "string1 = str.lower(input(''))\n",
        "if string1 == 'sister':\n",
        "    print(True)\n",
        "else:\n",
        "    print(False)\n"
      ]
    },
    {
      "cell_type": "markdown",
      "metadata": {
        "id": "nmtkAciicXlA"
      },
      "source": [
        "6. The `time()` funtion (no arguments) from the `time` module gives the number of seconds since the midnight before January 1, 1970. Determine how long it takes the user to enter something (or just press the `Enter`/`return` key) by finding the difference in time from before the input statement and after it. (Hint: \"save\" the starting and ending times by assigning them to variables.) You can turn this into a reaction time tester by having one person click the run button and another person press the `Enter` key as soon as they see or hear the first person click the run icon. You can also see how long it takes Python to execute a code block by putting your two `time` assignment statements at the beginning and end of a code block."
      ]
    },
    {
      "cell_type": "code",
      "execution_count": 25,
      "metadata": {
        "id": "T_AF2trydJat"
      },
      "outputs": [
        {
          "name": "stdout",
          "output_type": "stream",
          "text": [
            "4.647629022598267\n"
          ]
        }
      ],
      "source": [
        "import time\n",
        "start_time = time.time()\n",
        "input('Type something and press Enter: ')\n",
        "end_time = time.time()\n",
        "time_diff = (end_time - start_time)\n",
        "print(time_diff)"
      ]
    },
    {
      "cell_type": "markdown",
      "metadata": {},
      "source": [
        "7. Assign a URL (including the `http://` or `https://` part) to a variable, then use the `.split()` method to break the URL into pieces based on the position of `/` characters. Note: select and copy a URL from the URL bar of a browser to get the full URL. What is the index number for the list item that contains the domain name (e.g. `vanderbilt.edu` or `calendar.google.com`)? Write your answer as a comment in your code. Write an expression for the domain name, and print it."
      ]
    },
    {
      "cell_type": "code",
      "execution_count": 32,
      "metadata": {},
      "outputs": [
        {
          "name": "stdout",
          "output_type": "stream",
          "text": [
            "calendar.google.com\n"
          ]
        }
      ],
      "source": [
        "url = 'https://calendar.google.com/calendar/u/0/r?pli=1'\n",
        "domain = url.split('/')[2]\n",
        "# domain name has index number 2\n",
        "print(domain)\n"
      ]
    },
    {
      "cell_type": "markdown",
      "metadata": {},
      "source": [
        "8. If you have a domain name like `vanderbilt.edu`, `www.library.vanderbilt.edu`, or `calendar.google.com`, how can you determine how many parts it has that are separated by periods (dots)? (Hint: first split it into a list.) In the code cell, use a general expression for the last part of any domain name (`com`, `edu`, `org`, etc.) to print that last part for a domain name input by the user. \n",
        "\n",
        "Edit this cell and write your answer to the question here:\n",
        "\n",
        "Use len() around the list made of the split up components of the url. \n",
        "\n",
        "len(url.split('.'))\n",
        "\n",
        "Put the code you write in the following cell."
      ]
    },
    {
      "cell_type": "code",
      "execution_count": 45,
      "metadata": {},
      "outputs": [
        {
          "name": "stdout",
          "output_type": "stream",
          "text": [
            "com\n"
          ]
        }
      ],
      "source": [
        "url = input()\n",
        "domain = url.split('/')[2]\n",
        "print(domain.split('.')[(len(domain.split('.')))-1])"
      ]
    },
    {
      "cell_type": "markdown",
      "metadata": {},
      "source": [
        "9. Write a script that instantiates the fruit basket list, allows a user to type in a fruit, then add the fruit they typed in to the end of the list."
      ]
    },
    {
      "cell_type": "code",
      "execution_count": 93,
      "metadata": {},
      "outputs": [
        {
          "name": "stdout",
          "output_type": "stream",
          "text": [
            "Fruit basket:  ['apple', 'orange', 'banana']\n"
          ]
        }
      ],
      "source": [
        "new_fruit = 'f'\n",
        "fruit_basket = []\n",
        "\n",
        "while new_fruit != '':\n",
        "    new_fruit = input('Enter a fruit to add to the basket: ')\n",
        "    fruit_basket.append(new_fruit)\n",
        "\n",
        "fruit_basket.remove('')\n",
        "\n",
        "print('Fruit basket: ', fruit_basket)"
      ]
    },
    {
      "cell_type": "markdown",
      "metadata": {},
      "source": [
        "10. Modify the previous script to pick a random fruit from the list, remove it from the list, tell the user that they can’t have that fruit, then print the new list without the fruit you removed."
      ]
    },
    {
      "cell_type": "code",
      "execution_count": 101,
      "metadata": {},
      "outputs": [
        {
          "name": "stdout",
          "output_type": "stream",
          "text": [
            "Fruits requested:  ['apple', 'orange', 'banana', 'avocado', 'grape']\n",
            "You can’t have  avocado .\n",
            "Fruit basket:  ['apple', 'orange', 'banana', 'grape']\n"
          ]
        }
      ],
      "source": [
        "new_fruit = 'f'\n",
        "fruit_basket = []\n",
        "\n",
        "while new_fruit != '':\n",
        "    new_fruit = input('Enter a fruit to add to the basket: ')\n",
        "    fruit_basket.append(new_fruit)\n",
        "\n",
        "fruit_basket.pop()\n",
        "print('Fruits requested: ', fruit_basket)\n",
        "\n",
        "import random\n",
        "removed_item = fruit_basket.pop(random.randint(0,len(fruit_basket)-1))\n",
        "print('You can’t have ', removed_item, '.')\n",
        "print('Fruit basket: ', fruit_basket)\n"
      ]
    },
    {
      "cell_type": "markdown",
      "metadata": {},
      "source": [
        "11. The file [mesa_prcp_by_month.](https://github.com/HeardLibrary/digital-scholarship/blob/master/data/codegraf/mesa_prcp_by_month.txt) contains the average precipitation by month in mm for Mesa, Arizona, with each value on a separate line terminated by a newline character. Use the `get()` function from the requests module to retrieve the data and extract the text into a variable containing a single text string. Split the string by newline (`\\n`) characters into a list that contains each value. Non-rhetorical question: Can you use the `max()` function to determine the number in the list? If so, do it in your script. If not, explain why in a comment in the script. The URL to access the data is in the starter code below."
      ]
    },
    {
      "cell_type": "code",
      "execution_count": 110,
      "metadata": {},
      "outputs": [
        {
          "name": "stdout",
          "output_type": "stream",
          "text": [
            "[23.7, 22.3, 22.6, 8.6, 3.8, 2.1, 23.8, 29.2, 20.5, 14.2, 16.6, 25.5]\n",
            "Max: 29.2\n"
          ]
        }
      ],
      "source": [
        "import requests\n",
        "url = 'https://raw.githubusercontent.com/HeardLibrary/digital-scholarship/master/data/codegraf/mesa_prcp_by_month.txt'\n",
        "file_content = requests.get(url).text\n",
        "precip_list = file_content.split('\\n')\n",
        "\n",
        "#Change each item in list from a string to a float.\n",
        "i=0\n",
        "while i < len(precip_list):\n",
        "    precip_list[i] = float(precip_list[i])\n",
        "    i = i + 1\n",
        "\n",
        "print(precip_list)\n",
        "print('Max:', max(precip_list))\n"
      ]
    }
  ],
  "metadata": {
    "colab": {
      "provenance": []
    },
    "kernelspec": {
      "display_name": "Python 3",
      "name": "python3"
    },
    "language_info": {
      "codemirror_mode": {
        "name": "ipython",
        "version": 3
      },
      "file_extension": ".py",
      "mimetype": "text/x-python",
      "name": "python",
      "nbconvert_exporter": "python",
      "pygments_lexer": "ipython3",
      "version": "3.9.6"
    }
  },
  "nbformat": 4,
  "nbformat_minor": 0
}
