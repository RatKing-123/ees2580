{
  "cells": [
    {
      "cell_type": "markdown",
      "metadata": {
        "id": "zN05IqpfJhj7"
      },
      "source": [
        "# Python Lesson 3 Practice Assignment"
      ]
    },
    {
      "cell_type": "markdown",
      "metadata": {
        "id": "BNdYqS4jmKae"
      },
      "source": [
        "1. Create a dictionary where the keys are the names of months and the values are the number of days in that month. Allow a user to enter the name of a month and print the number of days in that month. Create appropriate prompts and print statements so the user knows what to do and can interpret the response."
      ]
    },
    {
      "cell_type": "code",
      "execution_count": 4,
      "metadata": {
        "id": "2DkVQ9qyl7MM"
      },
      "outputs": [
        {
          "name": "stdout",
          "output_type": "stream",
          "text": [
            "Jan has 31 days\n"
          ]
        }
      ],
      "source": [
        "months = {'Jan':31, 'Feb':28, 'March':31, 'April':30, 'May':31, 'June':30, 'July':31, 'Aug':31, 'Sept':30, 'Oct':31, 'Nov':30, 'Dec':31}\n",
        "\n",
        "input_month = input('Enter the month: ')\n",
        "print(f'{input_month} has {months[input_month]} days') if input_month in months else print('Invalid month')"
      ]
    },
    {
      "cell_type": "markdown",
      "metadata": {
        "id": "Vp8JnbYGmPqK"
      },
      "source": [
        "2. Using the statement that creates the dictionary that is a catalog of items (below), create another dictionary with exactly the same items and keys, but for which the values are prices as decimal numbers. Let the user type in a catalog number, then print the name of the item and its price. Prepend a dollar sign `$` to the price before printing, but don’t include the dollar sign in the dictionary."
      ]
    },
    {
      "cell_type": "code",
      "execution_count": 12,
      "metadata": {
        "id": "aXrJZenqmXBz"
      },
      "outputs": [
        {
          "name": "stdout",
          "output_type": "stream",
          "text": [
            "widget: $15.99\n"
          ]
        }
      ],
      "source": [
        "catalog = {'1008':'widget', '2149':'flange', '19x5':'smoke shifter', '992':'poiuyt'}\n",
        "\n",
        "prices = {'1008': 15.99, '2149': 9.50, '19x5': 25.75, '992': 3.99}\n",
        "\n",
        "def get_item_info():\n",
        "    catalog_number = input(\"Enter a catalog number: \")\n",
        "    if catalog_number in catalog and catalog_number in prices:\n",
        "        item_name = catalog[catalog_number]\n",
        "        item_price = prices[catalog_number]\n",
        "        print(f\"{item_name}: ${item_price:.2f}\")\n",
        "    else:\n",
        "        print(\"Invalid catalog number.\")\n",
        "\n",
        "get_item_info()\n"
      ]
    },
    {
      "cell_type": "markdown",
      "metadata": {
        "id": "nMH9zpRWmX_C"
      },
      "source": [
        "3. Modify the last program to convert the price of the selected item to euros (you may need to look up the exchange rate). Add an additional statement to print the price in euros, prepending the Unicode string for the euro sign (`\\u20AC`) to the numeric price. Make the print statement work so that there is no space between the euro sign and the price."
      ]
    },
    {
      "cell_type": "code",
      "execution_count": 13,
      "metadata": {
        "id": "cjIz7SCrmb2G"
      },
      "outputs": [
        {
          "name": "stdout",
          "output_type": "stream",
          "text": [
            "widget: $15.99\n",
            "widget: €14.87\n"
          ]
        }
      ],
      "source": [
        "catalog = {'1008': 'widget', '2149': 'flange', '19x5': 'smoke shifter', '992': 'poiuyt'}\n",
        "\n",
        "prices = {'1008': 15.99, '2149': 9.50, '19x5': 25.75, '992': 3.99}\n",
        "\n",
        "exchange_rate = 0.93\n",
        "\n",
        "def get_item_info():\n",
        "    catalog_number = input(\"Enter a catalog number: \")\n",
        "    if catalog_number in catalog and catalog_number in prices:\n",
        "        item_name = catalog[catalog_number]\n",
        "        item_price_usd = prices[catalog_number]\n",
        "        # Convert the price to euros\n",
        "        item_price_eur = item_price_usd * exchange_rate\n",
        "        print(f\"{item_name}: ${item_price_usd:.2f}\")\n",
        "        # Print the price in euros with the euro sign\n",
        "        print(f\"{item_name}: \\u20AC{item_price_eur:.2f}\")\n",
        "    else:\n",
        "        print(\"Item not found in catalog.\")\n",
        "\n",
        "get_item_info()\n"
      ]
    },
    {
      "cell_type": "markdown",
      "metadata": {},
      "source": [
        "4. Convert the catalog dictionary in problem 2 to a pandas Series. Using `.loc`, print the name of the item with catalog number `19x5`. Then, using `.iloc`, print the name of the second item in the list."
      ]
    },
    {
      "cell_type": "code",
      "execution_count": 14,
      "metadata": {},
      "outputs": [
        {
          "name": "stdout",
          "output_type": "stream",
          "text": [
            "smoke shifter\n",
            "flange\n"
          ]
        }
      ],
      "source": [
        "import pandas as pd\n",
        "catalog = {'1008': 'widget', '2149': 'flange', '19x5': 'smoke shifter', '992': 'poiuyt'}\n",
        "\n",
        "catalog_series = pd.Series(catalog)\n",
        "\n",
        "print(catalog_series.loc['19x5'])\n",
        "print(catalog_series.iloc[1])\n",
        "\n",
        "\n"
      ]
    },
    {
      "cell_type": "markdown",
      "metadata": {},
      "source": [
        "5. Convert the two dictionaries in problem 2 to a pandas DataFrame using pd.DataFrame. Display the DataFrame below the cell in tabular form.\n"
      ]
    },
    {
      "cell_type": "code",
      "execution_count": 15,
      "metadata": {},
      "outputs": [
        {
          "data": {
            "text/html": [
              "<div>\n",
              "<style scoped>\n",
              "    .dataframe tbody tr th:only-of-type {\n",
              "        vertical-align: middle;\n",
              "    }\n",
              "\n",
              "    .dataframe tbody tr th {\n",
              "        vertical-align: top;\n",
              "    }\n",
              "\n",
              "    .dataframe thead th {\n",
              "        text-align: right;\n",
              "    }\n",
              "</style>\n",
              "<table border=\"1\" class=\"dataframe\">\n",
              "  <thead>\n",
              "    <tr style=\"text-align: right;\">\n",
              "      <th></th>\n",
              "      <th>Catalog Number</th>\n",
              "      <th>Item Name</th>\n",
              "      <th>Price</th>\n",
              "    </tr>\n",
              "  </thead>\n",
              "  <tbody>\n",
              "    <tr>\n",
              "      <th>0</th>\n",
              "      <td>1008</td>\n",
              "      <td>widget</td>\n",
              "      <td>15.99</td>\n",
              "    </tr>\n",
              "    <tr>\n",
              "      <th>1</th>\n",
              "      <td>2149</td>\n",
              "      <td>flange</td>\n",
              "      <td>9.50</td>\n",
              "    </tr>\n",
              "    <tr>\n",
              "      <th>2</th>\n",
              "      <td>19x5</td>\n",
              "      <td>smoke shifter</td>\n",
              "      <td>25.75</td>\n",
              "    </tr>\n",
              "    <tr>\n",
              "      <th>3</th>\n",
              "      <td>992</td>\n",
              "      <td>poiuyt</td>\n",
              "      <td>3.99</td>\n",
              "    </tr>\n",
              "  </tbody>\n",
              "</table>\n",
              "</div>"
            ],
            "text/plain": [
              "  Catalog Number      Item Name  Price\n",
              "0           1008         widget  15.99\n",
              "1           2149         flange   9.50\n",
              "2           19x5  smoke shifter  25.75\n",
              "3            992         poiuyt   3.99"
            ]
          },
          "execution_count": 15,
          "metadata": {},
          "output_type": "execute_result"
        }
      ],
      "source": [
        "import pandas as pd\n",
        "\n",
        "catalog = {'1008': 'widget', '2149': 'flange', '19x5': 'smoke shifter', '992': 'poiuyt'}\n",
        "prices = {'1008': 15.99, '2149': 9.50, '19x5': 25.75, '992': 3.99}\n",
        "\n",
        "df = pd.DataFrame({'Catalog Number': list(catalog.keys()), 'Item Name': list(catalog.values()), 'Price': list(prices.values())})\n",
        "\n",
        "df\n"
      ]
    },
    {
      "cell_type": "markdown",
      "metadata": {},
      "source": [
        "6. Using the DataFrame you just created, print the Series for the price column. Then print the Series for the catalog number 2149 row."
      ]
    },
    {
      "cell_type": "code",
      "execution_count": 24,
      "metadata": {},
      "outputs": [
        {
          "name": "stdout",
          "output_type": "stream",
          "text": [
            "0    15.99\n",
            "1     9.50\n",
            "2    25.75\n",
            "3     3.99\n",
            "Name: Price, dtype: float64\n",
            "Catalog Number      2149\n",
            "Item Name         flange\n",
            "Price                9.5\n",
            "Name: 1, dtype: object\n"
          ]
        }
      ],
      "source": [
        "price_series = df['Price']\n",
        "print(price_series)\n",
        "\n",
        "row_2149 = df.iloc[1]\n",
        "\n",
        "print(row_2149)\n"
      ]
    },
    {
      "cell_type": "markdown",
      "metadata": {
        "id": "KFePud4QffsM"
      },
      "source": [
        "7. The second line of code below reads in a CSV containing climate data: the average precipitation and temperature for months the year 1879 in Mesa, Arizona. Display the first 6 rows of the DataFrame below the cell in tabular form. \n",
        "\n",
        "In the following code cell, print the following:\n",
        "- the data for March 1879 (as a Series).\n",
        "- the average temperture for July 1879.\n"
      ]
    },
    {
      "cell_type": "code",
      "execution_count": 33,
      "metadata": {},
      "outputs": [
        {
          "name": "stdout",
          "output_type": "stream",
          "text": [
            "  month   ppt  tavg\n",
            "0   Jan  92.8  12.1\n",
            "1   Feb  19.1  10.1\n",
            "2   Mar  18.2  11.8\n",
            "3   Apr   0.0  19.2\n",
            "4   May   4.1  25.0\n",
            "5   Jun   0.0  28.1\n"
          ]
        }
      ],
      "source": [
        "import pandas as pd\n",
        "climate = pd.read_csv('https://github.com/HeardLibrary/digital-scholarship/raw/master/data/codegraf/mesa_climate.csv')\n",
        "print(climate.head(6))\n",
        "\n",
        "climate = climate.set_index('month')"
      ]
    },
    {
      "cell_type": "code",
      "execution_count": 53,
      "metadata": {},
      "outputs": [
        {
          "name": "stdout",
          "output_type": "stream",
          "text": [
            "March 1879:\n",
            "ppt     18.2\n",
            "tavg    11.8\n",
            "Name: Mar, dtype: float64\n",
            "Average temp for July 1879: 32.4\n"
          ]
        }
      ],
      "source": [
        "import pandas as pd\n",
        "climate = pd.read_csv('https://github.com/HeardLibrary/digital-scholarship/raw/master/data/codegraf/mesa_climate.csv')\n",
        "climate = climate.set_index('month')\n",
        "\n",
        "print('March 1879:')\n",
        "print(climate.iloc[2])\n",
        "\n",
        "print('Average temp for July 1879:' , climate.loc['Jul', 'tavg'])\n",
        "\n",
        "\n"
      ]
    },
    {
      "cell_type": "markdown",
      "metadata": {
        "id": "MKRMPaKAmcYX"
      },
      "source": [
        "8. Create a list that contains the names of the days of the week. Using a `for` loop, print the days of the week."
      ]
    },
    {
      "cell_type": "code",
      "execution_count": 61,
      "metadata": {
        "id": "LtbTwWfgmh_Y"
      },
      "outputs": [
        {
          "name": "stdout",
          "output_type": "stream",
          "text": [
            "Monday\n",
            "Tuesday\n",
            "Wednesday\n",
            "Thursday\n",
            "Friday\n",
            "Saturday\n",
            "Sunday\n"
          ]
        }
      ],
      "source": [
        "days = ['Monday', 'Tuesday', 'Wednesday', 'Thursday', 'Friday', 'Saturday', 'Sunday']\n",
        "for i in range(len(days)):\n",
        "    print(days[i])\n",
        "    i += 1\n",
        "    "
      ]
    },
    {
      "cell_type": "markdown",
      "metadata": {
        "id": "GsibOFKHhpBe"
      },
      "source": [
        "9. Using a `for` loop and the `.iterrows` method, print the month abbreviation and average temperature in Mesa for each month in 1879 together on the same line. (Remember that the month abbreviation is now the index for the row.) To make the output clearer, print a header explaining what the columns are before you print the values."
      ]
    },
    {
      "cell_type": "code",
      "execution_count": 60,
      "metadata": {
        "id": "XCLatK9SiPTo"
      },
      "outputs": [
        {
          "name": "stdout",
          "output_type": "stream",
          "text": [
            "Average Monthly Temperature in Mesa, AZ, 1879\n",
            "Jan: 12.1\n",
            "Feb: 10.1\n",
            "Mar: 11.8\n",
            "Apr: 19.2\n",
            "May: 25.0\n",
            "Jun: 28.1\n",
            "Jul: 32.4\n",
            "Aug: 32.2\n",
            "Sep: 28.2\n",
            "Oct: 19.5\n",
            "Nov: 14.5\n",
            "Dec: 8.7\n"
          ]
        }
      ],
      "source": [
        "print('Average Monthly Temperature in Mesa, AZ, 1879')\n",
        "for index, row in climate.iterrows():\n",
        "    print(f\"{index}: {row['tavg']}\")\n"
      ]
    },
    {
      "cell_type": "markdown",
      "metadata": {
        "id": "yzBbdFRViQB9"
      },
      "source": [
        "10. Create a variable called `sum` and set its value to zero. Create a `for` loop that steps through each month and adds the precipitation value for each month to the `sum` variable. Recall that\n",
        "\n",
        "```\n",
        "sum += number\n",
        "```\n",
        "\n",
        "is a shortcut for\n",
        "\n",
        "```\n",
        "sum = sum + number\n",
        "```\n",
        "\n",
        "After you add up all of the values, print the value of the average precipitation for all months of the year. (Don't worry about weighting the monthly values by the length of the month.)"
      ]
    },
    {
      "cell_type": "code",
      "execution_count": 66,
      "metadata": {
        "id": "L54PPx1bjXHG"
      },
      "outputs": [
        {
          "name": "stdout",
          "output_type": "stream",
          "text": [
            "Total precipitation for 1879: 228.5\n",
            "Average monthly precipitation for 1879: 19.041666666666668\n"
          ]
        }
      ],
      "source": [
        "sum = 0\n",
        "for index, row in climate.iterrows():\n",
        "    sum += row['ppt']\n",
        "\n",
        "print('Total precipitation for 1879:', sum)\n",
        "print('Average monthly precipitation for 1879:', sum/12)\n",
        "\n",
        "\n"
      ]
    },
    {
      "cell_type": "markdown",
      "metadata": {},
      "source": [
        "11. Because pandas is designed for vectorized operations, there is an easier way to find the average precipitation for all of the months. Simply append the `.mean()` method to the precipitation column of the DataFrame. (The mean method does not require any arguments.) Print the result. Is it the same as what you got using the `for` loop?"
      ]
    },
    {
      "cell_type": "code",
      "execution_count": 68,
      "metadata": {},
      "outputs": [
        {
          "name": "stdout",
          "output_type": "stream",
          "text": [
            "Average precipitation: 19.041666666666664\n"
          ]
        }
      ],
      "source": [
        "average_ppt = climate['ppt'].mean()\n",
        "print('Average precipitation:', average_ppt)\n",
        "\n",
        "#Same result as the for loop out to 14 decimal places. Last decimal place is different.\n"
      ]
    }
  ],
  "metadata": {
    "colab": {
      "provenance": []
    },
    "kernelspec": {
      "display_name": "Python 3",
      "name": "python3"
    },
    "language_info": {
      "codemirror_mode": {
        "name": "ipython",
        "version": 3
      },
      "file_extension": ".py",
      "mimetype": "text/x-python",
      "name": "python",
      "nbconvert_exporter": "python",
      "pygments_lexer": "ipython3",
      "version": "3.9.6"
    }
  },
  "nbformat": 4,
  "nbformat_minor": 0
}
